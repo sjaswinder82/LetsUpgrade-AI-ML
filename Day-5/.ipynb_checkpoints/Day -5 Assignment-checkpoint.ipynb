{
 "cells": [
  {
   "cell_type": "markdown",
   "metadata": {},
   "source": [
    "### Q1. Write a Python program to find the first 20 non-even prime natural numbers"
   ]
  },
  {
   "cell_type": "code",
   "execution_count": 2,
   "metadata": {},
   "outputs": [
    {
     "name": "stdout",
     "output_type": "stream",
     "text": [
      "First 20 non even prime numbers are:\n",
      " [3, 5, 7, 11, 13, 17, 19, 23, 29, 31, 37, 41, 43, 47, 53, 59, 61, 67, 71, 73]\n"
     ]
    }
   ],
   "source": [
    "prime_numbers=[]\n",
    "\n",
    "for num in range(1,1000):\n",
    "    if (num > 2 and len(prime_numbers) < 20):\n",
    "        for i in range(2,num):\n",
    "            if (num%i==0):\n",
    "                break\n",
    "        else:\n",
    "            prime_numbers.append(num)\n",
    "\n",
    "print(\"First 20 non even prime numbers are:\\n\", prime_numbers)"
   ]
  },
  {
   "cell_type": "markdown",
   "metadata": {},
   "source": [
    "### Q2. Write a Python program to implement 15 functions of string"
   ]
  },
  {
   "cell_type": "code",
   "execution_count": null,
   "metadata": {},
   "outputs": [],
   "source": [
    "#List of any 15 string functions are as below with examples:\n",
    "\n",
    "my_string = \"Lorem {} is simply dummy text of the printing and typesetting industry.\"\n",
    "# 1. format()- value formatting with multiple substitions \n",
    "print (my_string.format(\"Ipsum\"))\n",
    "\n",
    "# 2. split()- Used to split a string into list of strings based on a specific separator eg- ' ' or ':'\n",
    "\n",
    "# Splits at '-' \n",
    "print(my_string.split('-')) \n",
    "\n",
    "# 3. join()- function returns a new string that is the concatenation of the different strings \n",
    "print(\"\".join([my_string,\" New Text\"])) \n",
    "\n",
    "# 4. split()- Used to trim whitespaces or particular characters from the string \n",
    "print(my_string.strip(\"dummy\")) \n",
    "\n",
    "# 5. isupper()- To check if all the characters of a string are in upper case or not\n",
    "print(my_string.isupper())\n",
    "\n",
    "# 6. islower()- To check if all the characters of a string are in lower case or not\n",
    "print(my_string.islower())\n",
    "\n",
    "# 7. upper()- To convert all the characters in upper case \n",
    "print(my_string.upper())\n",
    "\n",
    "# 8. lower()- To convert all the characters in lower case \n",
    "print(my_string.lower())\n",
    "\n",
    "# 9. replace()- it is used to create a new string by replacing some parts of another string.\n",
    "print(my_string.replace(\"industry\", \"development\"))\n",
    "\n",
    "# 10. __contains__() function that we can use to check if it contains another string/character or not.\n",
    "print(my_string.__contains__(\"python\"))\n",
    "\n",
    "# 11. center()-returns a centered string of specified size.\n",
    "print(my_string.center(30,'*'))\n",
    "\n",
    "# 12. find()- it is used to find the index of a substring in a string.\n",
    "print(my_string.find('text')) \n",
    "\n",
    "# 13. swapcase()- returns a new string with uppercase characters converted to lowercase and vice versa.\n",
    "print(my_string.swapcase()) \n",
    "\n",
    "# 14. isalnum()- returns True if string is made of alphanumeric characters only.\n",
    "print(my_string.isalnum()) \n",
    "\n",
    "# 15. isalpha()- returns True if all the characters in the string are alphabets, otherwise False.\n",
    "print(my_string.isalpha())"
   ]
  },
  {
   "cell_type": "markdown",
   "metadata": {},
   "source": [
    "### Q3. Write a Python program to check if the given string is a Palindrome or Anagram or None of them. Display the message accordingly to the user.\n"
   ]
  },
  {
   "cell_type": "code",
   "execution_count": 11,
   "metadata": {},
   "outputs": [
    {
     "name": "stdout",
     "output_type": "stream",
     "text": [
      "lorem is not a palindrome\n",
      "racecar is palindrome\n",
      "Stressed  and  Desserts are anagram.\n"
     ]
    }
   ],
   "source": [
    "def isPalindrome(str1):\n",
    "    str1 = str1.lower()\n",
    "    str2 = str1[::-1]\n",
    "    if str1 == str2:\n",
    "        print(str1, \"is palindrome\")\n",
    "    else:\n",
    "        print(str1, \"is not a palindrome\")\n",
    "    \n",
    "def isAnagram(str1,str2):\n",
    "    str1 = str1.lower()\n",
    "    str2 = str2.lower()\n",
    "    if sorted(str1) == sorted(str2):\n",
    "        print(str3, \" and \", str4, \"are anagram.\")\n",
    "    else:\n",
    "        print(str3, \" and \", str4, \"are not anagram.\")\n",
    "\n",
    "str1 = \"lorem\"\n",
    "str2 = \"Racecar\"\n",
    "str3 = 'Stressed'\n",
    "str4 = 'Desserts'\n",
    "\n",
    "\n",
    "isPalindrome(str1)   \n",
    "isPalindrome(str2)\n",
    "\n",
    "    \n",
    "isAnagram(str3, str4)"
   ]
  },
  {
   "cell_type": "markdown",
   "metadata": {},
   "source": [
    "### Q4. Write a Python's user defined function that removes all the additional characters from the string and converts it finally to lower case using built-in lower(). eg: If the string is \"Dr. Darshan Ingle@AI-ML Trainer\", then the output be \"drdarshaningleaimltrainer\"."
   ]
  },
  {
   "cell_type": "code",
   "execution_count": 13,
   "metadata": {},
   "outputs": [
    {
     "name": "stdout",
     "output_type": "stream",
     "text": [
      "Original String :  Dr. Darshan Ingle@AI-ML Trainer\n",
      "Formatted String :  drdarshaningleaimltrainer\n"
     ]
    }
   ],
   "source": [
    "import re\n",
    "\n",
    "def removeSpecialChars(str):\n",
    "    return re.sub('[^A-Za-z0-9]+', '', str ).lower()\n",
    "\n",
    "str = \"Dr. Darshan Ingle@AI-ML Trainer\"\n",
    "\n",
    "print( 'Original String : ', str )\n",
    "print( 'Formatted String : ', removeSpecialChars(str) )"
   ]
  },
  {
   "cell_type": "code",
   "execution_count": null,
   "metadata": {},
   "outputs": [],
   "source": []
  }
 ],
 "metadata": {
  "kernelspec": {
   "display_name": "Python 3",
   "language": "python",
   "name": "python3"
  },
  "language_info": {
   "codemirror_mode": {
    "name": "ipython",
    "version": 3
   },
   "file_extension": ".py",
   "mimetype": "text/x-python",
   "name": "python",
   "nbconvert_exporter": "python",
   "pygments_lexer": "ipython3",
   "version": "3.7.6"
  }
 },
 "nbformat": 4,
 "nbformat_minor": 4
}
