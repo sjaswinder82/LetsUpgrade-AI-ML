{
 "cells": [
  {
   "cell_type": "markdown",
   "metadata": {},
   "source": [
    "# Question 1: Write a program to subtract two complex numbers in Python."
   ]
  },
  {
   "cell_type": "code",
   "execution_count": 1,
   "metadata": {},
   "outputs": [
    {
     "name": "stdout",
     "output_type": "stream",
     "text": [
      "Enter real number: 1\n",
      "Enter imaginary number: 2\n",
      "Enter real number: 2\n",
      "Enter imaginary number: 2\n",
      "Complex number 1 = (1+2j)\n",
      "Complex number 2 = (2+2j)\n",
      "Subtract Result = (-1+0j)\n"
     ]
    }
   ],
   "source": [
    "a1 = int(input(\"Enter real number: \"))\n",
    "b1 = int(input(\"Enter imaginary number: \"))\n",
    "\n",
    "a2 = int(input(\"Enter real number: \"))\n",
    "b2 = int(input(\"Enter imaginary number: \"))\n",
    "\n",
    "z1 = complex(a1, b1)\n",
    "z2= complex(a2, b2)\n",
    "\n",
    "sub = z1-z2\n",
    "\n",
    "print(\"Complex number 1 = {}\".format(z1))\n",
    "print(\"Complex number 2 = {}\".format(z2))\n",
    "print(\"Subtract Result = {}\".format(sub))"
   ]
  },
  {
   "cell_type": "markdown",
   "metadata": {},
   "source": [
    "# Question 2: Write a program to find the fourth root of a number."
   ]
  },
  {
   "cell_type": "code",
   "execution_count": 5,
   "metadata": {},
   "outputs": [
    {
     "name": "stdout",
     "output_type": "stream",
     "text": [
      "Enter a number= 16\n",
      "Fourth Root of 16 is 2.0\n"
     ]
    }
   ],
   "source": [
    "a = int(input(\"Enter a number= \"))\n",
    "fourthRoot = a ** (1/4)\n",
    "print(\"Fourth Root of {} is {}\".format(a, fourthRoot))"
   ]
  },
  {
   "cell_type": "markdown",
   "metadata": {},
   "source": [
    "# Question 3: Write a program to swap two numbers in Python with the help of a temporary variable."
   ]
  },
  {
   "cell_type": "code",
   "execution_count": 4,
   "metadata": {},
   "outputs": [
    {
     "name": "stdout",
     "output_type": "stream",
     "text": [
      "Enter a number= 10\n",
      "Enter a number= 20\n",
      "Numbers before swap A=10 and B=20\n",
      "Numbers after swap A=20 and B=10\n"
     ]
    }
   ],
   "source": [
    "a = int(input(\"Enter a number= \"))\n",
    "b = int(input(\"Enter a number= \"))\n",
    "\n",
    "print(\"Numbers before swap A={} and B={}\".format(a,b))\n",
    "\n",
    "temp = a\n",
    "a = b\n",
    "b = temp\n",
    "\n",
    "print(\"Numbers after swap A={} and B={}\".format(a,b))"
   ]
  },
  {
   "cell_type": "markdown",
   "metadata": {},
   "source": [
    "# Question 4 : Write a program to swap two numbers in Python without using a temporary variable."
   ]
  },
  {
   "cell_type": "code",
   "execution_count": 3,
   "metadata": {},
   "outputs": [
    {
     "name": "stdout",
     "output_type": "stream",
     "text": [
      "Enter a number= 10\n",
      "Enter a number= 10\n",
      "Numbers before swap A=10 and B=10\n",
      "Numbers after swap A=10 and B=10\n"
     ]
    }
   ],
   "source": [
    "a = int(input(\"Enter a number= \"))\n",
    "b = int(input(\"Enter a number= \"))\n",
    "\n",
    "print(\"Numbers before swap A={} and B={}\".format(a,b))\n",
    "\n",
    "a = a+b\n",
    "b = a-b\n",
    "a = a-b\n",
    "\n",
    "print(\"Numbers after swap A={} and B={}\".format(a,b))"
   ]
  },
  {
   "cell_type": "markdown",
   "metadata": {},
   "source": [
    "# Question 5 : Write a python program to convert fahrenheit to kelvin and celsius both."
   ]
  },
  {
   "cell_type": "code",
   "execution_count": 7,
   "metadata": {},
   "outputs": [
    {
     "name": "stdout",
     "output_type": "stream",
     "text": [
      "Conversion of fahrenheit to Kelvin\n",
      "Enter Fahrenheit : 11\n",
      "fahrenheit 11 = Kelvin 261.333 K\n",
      "Conversion of fahrenheit to Celcius\n",
      "fahrenheit 11 = Celcius -11.667 C\n"
     ]
    }
   ],
   "source": [
    "print(\"Conversion of fahrenheit to Kelvin\")\n",
    "f = int(input(\"Enter Fahrenheit : \"))\n",
    "k = 273 + ((f - 32.0) * (5/9))\n",
    "print(f\"fahrenheit {f} = Kelvin {k:.3f} K\")\n",
    "\n",
    "print(\"Conversion of fahrenheit to Celcius\")\n",
    "c = ((f - 32.0) * 5) / 9\n",
    "print(f\"fahrenheit {f} = Celcius {c:.3f} C\")"
   ]
  },
  {
   "cell_type": "markdown",
   "metadata": {},
   "source": [
    "# Question_6 :Write a program to demonstrate all the available data types in Python. Hint: Use type() function."
   ]
  },
  {
   "cell_type": "code",
   "execution_count": 13,
   "metadata": {},
   "outputs": [
    {
     "name": "stdout",
     "output_type": "stream",
     "text": [
      "<class 'int'>\n",
      "<class 'float'>\n",
      "<class 'complex'>\n",
      "<class 'str'>\n",
      "<class 'list'>\n",
      "<class 'bool'>\n",
      "<class 'NoneType'>\n",
      "<class 'tuple'>\n",
      "<class 'dict'>\n",
      "<class 'set'>\n"
     ]
    }
   ],
   "source": [
    "#int\n",
    "print(type(100))\n",
    "\n",
    "#float\n",
    "print(type(100.2))\n",
    "\n",
    "#complex\n",
    "z = complex(11,3)\n",
    "print(type(z))\n",
    "\n",
    "#str\n",
    "print(type('str'))\n",
    "\n",
    "#list\n",
    "print(type([1, 2, 'text']))\n",
    "\n",
    "#bool\n",
    "print(type(True))\n",
    "\n",
    "#NoneType\n",
    "print(type(None))\n",
    "\n",
    "#tuple\n",
    "print(type((1, 3, 5)))\n",
    "\n",
    "#dict\n",
    "print(type({1: 'hello', 2: \"world\"}))\n",
    "\n",
    "#set\n",
    "print(type({'foo', 'bar'}))\n",
    "\n"
   ]
  },
  {
   "cell_type": "markdown",
   "metadata": {},
   "source": [
    "# Question 7: Create a Markdown cell in jupyter and list the steps discussed in the session by Dr. Darshan Ingle sir to create Github profile and upload Githubs Assignment link."
   ]
  },
  {
   "cell_type": "markdown",
   "metadata": {},
   "source": [
    "1. Signup an account in GitHub\n",
    "1. Make public repository with name LetsUpgrade AI-ML\n",
    "1. Commit assignment to the repository in Day wise folder\n",
    "1. Check repository lin in private browser window\n",
    "1. Submit assignment using Google forms"
   ]
  },
  {
   "cell_type": "code",
   "execution_count": null,
   "metadata": {},
   "outputs": [],
   "source": []
  }
 ],
 "metadata": {
  "kernelspec": {
   "display_name": "Python 3",
   "language": "python",
   "name": "python3"
  },
  "language_info": {
   "codemirror_mode": {
    "name": "ipython",
    "version": 3
   },
   "file_extension": ".py",
   "mimetype": "text/x-python",
   "name": "python",
   "nbconvert_exporter": "python",
   "pygments_lexer": "ipython3",
   "version": "3.7.6"
  }
 },
 "nbformat": 4,
 "nbformat_minor": 4
}
