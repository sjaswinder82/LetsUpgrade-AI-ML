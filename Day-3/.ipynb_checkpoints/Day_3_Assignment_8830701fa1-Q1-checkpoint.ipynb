{
 "cells": [
  {
   "cell_type": "markdown",
   "metadata": {},
   "source": [
    "# Write a program to subtract two complex numbers in Python."
   ]
  },
  {
   "cell_type": "code",
   "execution_count": 1,
   "metadata": {},
   "outputs": [
    {
     "name": "stdout",
     "output_type": "stream",
     "text": [
      "Enter real number: 2\n",
      "Enter imaginary number: 3\n",
      "Enter real number: 22\n",
      "Enter imaginary number: 3\n",
      "Complex number 1 = (2+3j)\n",
      "Complex number 2 = (22+3j)\n",
      "Subtract Result = (-20+0j)\n"
     ]
    }
   ],
   "source": [
    "a1 = int(input(\"Enter real number: \"))\n",
    "b1 = int(input(\"Enter imaginary number: \"))\n",
    "\n",
    "a2 = int(input(\"Enter real number: \"))\n",
    "b2 = int(input(\"Enter imaginary number: \"))\n",
    "\n",
    "z1 = complex(a1, b1)\n",
    "z2= complex(a2, b2)\n",
    "\n",
    "sub = z1-z2\n",
    "\n",
    "print(\"Complex number 1 = {}\".format(z1))\n",
    "print(\"Complex number 2 = {}\".format(z2))\n",
    "print(\"Subtract Result = {}\".format(sub))"
   ]
  }
 ],
 "metadata": {
  "kernelspec": {
   "display_name": "Python 3",
   "language": "python",
   "name": "python3"
  },
  "language_info": {
   "codemirror_mode": {
    "name": "ipython",
    "version": 3
   },
   "file_extension": ".py",
   "mimetype": "text/x-python",
   "name": "python",
   "nbconvert_exporter": "python",
   "pygments_lexer": "ipython3",
   "version": "3.7.6"
  }
 },
 "nbformat": 4,
 "nbformat_minor": 4
}
